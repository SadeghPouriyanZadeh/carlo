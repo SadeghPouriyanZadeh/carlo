{
 "cells": [
  {
   "cell_type": "markdown",
   "id": "5a7cf063-0029-4863-95ac-e376a8d81b16",
   "metadata": {},
   "source": [
    "## $I = a(1-e^\\frac{-t}{b})$\n",
    "### gas sensor response\n",
    "---\n",
    "C : State `state_mtx` - matrix showing the activity of a cell for giving current carrier (1:active, 0:deactivated)\n",
    "\n",
    "G : Gas Mixture `mixture_mtx` - matrix showing the probability of interaction between sensing material and target gas\n",
    "\n",
    "T : Time [s] `time_mtx` - local time matrix for each cell\n",
    "\n",
    "M : Molecular Weight [g/mol] `molweight_mtx` - matrix of molar weight\n",
    "\n",
    "L : Distance [m] `distance_mtx` - matrix of a random distance between sensing material and target gas that will be sensed\n",
    "\n",
    "`ppm` : the concentration of target gas in gas mixture\n",
    "\n",
    "`q_e` : electric charge of an electron\n",
    "\n",
    "`epsilon` : Minimum distance between sensing material and target gas (the gas that will be sensed)\n",
    "\n",
    "`T` : Temperature in Kelvin"
   ]
  },
  {
   "cell_type": "code",
   "execution_count": 6,
   "id": "22b0624e-aaaf-4cee-a91c-4b0c6eb8b896",
   "metadata": {},
   "outputs": [],
   "source": [
    "from collections import namedtuple\n",
    "\n",
    "import matplotlib.pyplot as plt\n",
    "import numba\n",
    "import numpy as np\n",
    "from rich.progress import Progress"
   ]
  },
  {
   "cell_type": "code",
   "execution_count": 7,
   "id": "9598770a-e330-47de-b53d-721b4496c8d1",
   "metadata": {},
   "outputs": [],
   "source": [
    "K_B = 1.380649e-23\n",
    "R = 8.314\n",
    "Q_E = 1.6021e-19\n",
    "NA = 6.0221409e23\n",
    "PI = np.pi"
   ]
  },
  {
   "cell_type": "code",
   "execution_count": 8,
   "id": "732b1bcc-b65e-4d7c-9a3b-43c6ea868aad",
   "metadata": {},
   "outputs": [],
   "source": [
    "@numba.jit\n",
    "def maxwell_boltzmann_distribution(v, temperature, molecule_mass):\n",
    "    t = temperature\n",
    "    m = molecule_mass\n",
    "    expr1 = 4 * PI * (v ** 2)\n",
    "    expr2 = (m / (2 * PI * K_B * t)) ** 1.5\n",
    "    expr3 = np.exp((-m * (v ** 2)) / (2 * K_B * t))\n",
    "    return expr1 * expr2 * expr3\n",
    "\n",
    "\n",
    "@numba.jit\n",
    "def sample_maxwell_boltzmann(temperature, molar_mass):\n",
    "    molecule_mass = molar_mass / NA\n",
    "    mean = np.sqrt((2 * R * temperature) / molar_mass)\n",
    "    v = np.linspace(0, 3 * mean, 100)\n",
    "    pd = maxwell_boltzmann_distribution(v, temperature, molecule_mass)\n",
    "    return v, ((1 / pd.sum()) * pd)"
   ]
  },
  {
   "cell_type": "code",
   "execution_count": 9,
   "id": "925cd184-8704-4ab1-8217-889c7dd28196",
   "metadata": {},
   "outputs": [],
   "source": [
    "class NanoWire:\n",
    "    def __init__(self, width, length, n_x, n_y, surface_carrier_density):\n",
    "        self.width = width\n",
    "        self.length = length\n",
    "        self.n_x = n_x\n",
    "        self.n_y = n_y\n",
    "        self.surface_carrier_density = surface_carrier_density\n",
    "\n",
    "    @property\n",
    "    def grid_size(self):\n",
    "        return (self.n_x, self.n_y)\n",
    "\n",
    "    @property\n",
    "    def cell_carriers(self):\n",
    "        num = self.surface_carrier_density * self.length * self.width\n",
    "        den = self.n_x * self.n_y\n",
    "        return int(num / den)"
   ]
  },
  {
   "cell_type": "code",
   "execution_count": 10,
   "id": "24696e35-8876-4063-8634-a07d8fd8af77",
   "metadata": {},
   "outputs": [],
   "source": [
    "class Environment:\n",
    "    def __init__(\n",
    "        self,\n",
    "        concentration,\n",
    "        temperature,\n",
    "        pressure,\n",
    "        max_distance,\n",
    "        active_gas_molweight,\n",
    "        passive_gas_molweight,\n",
    "        active_gas_diameter,\n",
    "        passive_gas_diameter,\n",
    "    ):\n",
    "        self.concentration = concentration\n",
    "        self.temperature = temperature\n",
    "        self.pressure = pressure\n",
    "        self.max_distance = max_distance\n",
    "        self.active_gas_molweight = active_gas_molweight\n",
    "        self.passive_gas_molweight = passive_gas_molweight\n",
    "        self.active_gas_diameter = active_gas_diameter\n",
    "        self.passive_gas_diameter = passive_gas_diameter"
   ]
  },
  {
   "cell_type": "code",
   "execution_count": 11,
   "id": "cb4ba81f-43ad-429e-82ce-e528a9dd01c3",
   "metadata": {},
   "outputs": [],
   "source": [
    "class GasSensorSimulation:\n",
    "    def __init__(\n",
    "        self,\n",
    "        nanowire: NanoWire,\n",
    "        environment: Environment,\n",
    "        constant_concentration: bool,\n",
    "    ):\n",
    "        self.nanowire = nanowire\n",
    "        self.environment = environment\n",
    "\n",
    "        self.constant_concentration = constant_concentration\n",
    "        self.state_mtx = np.ones(self.nanowire.grid_size, dtype=np.bool_)\n",
    "        self.time_mtx = np.zeros(self.nanowire.grid_size)\n",
    "        self.iterations = 0\n",
    "\n",
    "    def get_gasses_probabilities(self):\n",
    "        p_active_gas = self.environment.concentration\n",
    "        p_passive_gas = 1 - (self.environment.concentration)\n",
    "        return p_passive_gas, p_active_gas\n",
    "\n",
    "    def get_mixture_mtx(self):\n",
    "        binary_values = np.array([True, False], dtype=np.bool_)\n",
    "        p = self.get_gasses_probabilities()\n",
    "        return np.random.choice(binary_values, self.nanowire.grid_size, p=p)\n",
    "\n",
    "    def update_time_mtx(self, mixture_mtx):\n",
    "#         d_p = self.environment.passive_gas_diameter\n",
    "#         d_a = self.environment.active_gas_diameter\n",
    "#         t_env = self.environment.temperature\n",
    "#         p_env = self.environment.pressure\n",
    "#         m_p = self.environment.passive_gas_molweight\n",
    "#         m_a = self.environment.active_gas_molweight\n",
    "#         d_mtx = d_p * mixture_mtx - d_a * (mixture_mtx - 1)\n",
    "#         mfp_mtx = (R * self.environment.temperature) / (\n",
    "#             np.sqrt(2) * PI * np.square(d_mtx) * NA * self.environment.pressure\n",
    "#         )\n",
    "\n",
    "        #         molweight_mtx = m_p * mixture_mtx - m_a * (mixture_mtx - 1)\n",
    "        v_active, p_active = sample_maxwell_boltzmann(\n",
    "            self.environment.temperature, self.environment.active_gas_molweight\n",
    "        )\n",
    "        v_active_mtx = np.random.choice(v_active, self.nanowire.grid_size, p=p_active)\n",
    "        v_passive, p_passive = sample_maxwell_boltzmann(\n",
    "            self.environment.temperature, self.environment.passive_gas_molweight\n",
    "        )\n",
    "        v_passive_mtx = np.random.choice(\n",
    "            v_passive, self.nanowire.grid_size, p=p_passive\n",
    "        )\n",
    "        v_mtx = np.where(mixture_mtx == 0, v_active_mtx, v_passive_mtx)\n",
    "        mfp_mtx = (\n",
    "            np.random.rand(*self.nanowire.grid_size) * self.environment.max_distance\n",
    "        )\n",
    "        self.time_mtx += (mfp_mtx / v_mtx) * self.state_mtx\n",
    "\n",
    "    @property\n",
    "    def active_cell_ratio(self):\n",
    "        total_cells = self.nanowire.n_x * self.nanowire.n_y\n",
    "        active_cells = self.state_mtx.sum()\n",
    "        active_ratio = active_cells / total_cells\n",
    "        return active_ratio\n",
    "\n",
    "    def is_converged(self, active_cell_ratio_to_converge):\n",
    "        return self.active_cell_ratio < active_cell_ratio_to_converge\n",
    "\n",
    "    def run(self, active_cell_ratio_to_converge):\n",
    "        total_remained = self.active_cell_ratio - active_cell_ratio_to_converge\n",
    "        with Progress() as progress:\n",
    "            task = progress.add_task(\"[red]Solving...\", total=100)\n",
    "            while not self.is_converged(active_cell_ratio_to_converge):\n",
    "                mixture_mtx = self.get_mixture_mtx()\n",
    "                self.state_mtx *= mixture_mtx\n",
    "                self.update_time_mtx(mixture_mtx)\n",
    "                self.iterations += 1\n",
    "                self.simulation_time = (self.time_mtx * -1 * (self.state_mtx - 1)).max()\n",
    "                remained = self.active_cell_ratio - active_cell_ratio_to_converge\n",
    "                advance = int((total_remained - remained) * 100 / total_remained)\n",
    "                description_parts = [\n",
    "                    f\"ACR: {self.active_cell_ratio:.2e}\",\n",
    "                    f\"ITR: {self.iterations:07}\",\n",
    "                ]\n",
    "                description = \"{\" + \", \".join(description_parts) + \"}\"\n",
    "                progress.update(task, completed=advance, description=description)\n",
    "            progress.update(task, completed=100)\n",
    "\n",
    "    def get_time_current_array(self):\n",
    "        flat_time_mtx = np.unique(self.time_mtx.flatten())\n",
    "        time_list = []\n",
    "        current_list = []\n",
    "        for t in flat_time_mtx:\n",
    "            step_state = np.where(self.time_mtx <= t, self.state_mtx, 1)\n",
    "            n_e = (self.nanowire.n_y * self.nanowire.n_x) - step_state.sum()\n",
    "            current = n_e * Q_E * self.nanowire.cell_carriers\n",
    "            time_list.append(t)\n",
    "            current_list.append(current)\n",
    "        return np.array(time_list), np.array(current_list)\n",
    "\n",
    "\n",
    "#         print(f\"Convergened @ {self.iterations} iteration\")"
   ]
  },
  {
   "cell_type": "code",
   "execution_count": 12,
   "id": "a9ed6c8b-bcfb-4873-bb4b-7b5c2ef8e060",
   "metadata": {
    "tags": []
   },
   "outputs": [],
   "source": [
    "concentration = 10e-6\n",
    "n_x = 100\n",
    "n_y = 100\n",
    "max_distance = 0.5  # m\n",
    "length = 0.5e-2  # m\n",
    "width = 5e-6  # m\n",
    "active_gas_molweight = 1.00794 * 2e-3  # kg/mol H2\n",
    "passive_gas_molweight = 28.97e-3  # kg/mol\n",
    "tio2_surface_area = 34.1e-20\n",
    "surface_carrier_density = 1 / tio2_surface_area\n",
    "passive_gas_diameter = (0.299 * 0.21 + 0.305 * 0.78 + 0.01 * 0.363) * 1e-9\n",
    "active_gas_diameter = 289e-12 * 2  # H2\n",
    "temperature = 300\n",
    "pressure = 101325"
   ]
  },
  {
   "cell_type": "code",
   "execution_count": 13,
   "id": "6543f76a-1e82-418e-b19a-d7840a150eaf",
   "metadata": {},
   "outputs": [],
   "source": [
    "nanowire = NanoWire(width, length, n_x, n_y, surface_carrier_density)\n",
    "environment = Environment(\n",
    "    concentration,\n",
    "    temperature,\n",
    "    pressure,\n",
    "    max_distance,\n",
    "    active_gas_molweight,\n",
    "    passive_gas_molweight,\n",
    "    active_gas_diameter,\n",
    "    passive_gas_diameter,\n",
    ")\n",
    "simulation = GasSensorSimulation(nanowire, environment, constant_concentration=True)"
   ]
  },
  {
   "cell_type": "code",
   "execution_count": 14,
   "id": "e5321650-08e5-4b20-92e9-a7593f545122",
   "metadata": {},
   "outputs": [
    {
     "data": {
      "text/html": [
       "<pre style=\"white-space:pre;overflow-x:auto;line-height:normal;font-family:Menlo,'DejaVu Sans Mono',consolas,'Courier New',monospace\">{ACR: 5.29e-02, ITR: 0286927} <span style=\"color: #f92672; text-decoration-color: #f92672\">━━━━━━━━━━━━━━━━━━━━━━━━━━━━━━━━━━━━━━</span><span style=\"color: #3a3a3a; text-decoration-color: #3a3a3a\">╺━</span> <span style=\"color: #800080; text-decoration-color: #800080\"> 95%</span> <span style=\"color: #008080; text-decoration-color: #008080\">-:--:--</span>\n",
       "</pre>\n"
      ],
      "text/plain": [
       "{ACR: 5.29e-02, ITR: 0286927} \u001b[38;2;249;38;114m━━━━━━━━━━━━━━━━━━━━━━━━━━━━━━━━━━━━━━\u001b[0m\u001b[38;5;237m╺\u001b[0m\u001b[38;5;237m━\u001b[0m \u001b[35m 95%\u001b[0m \u001b[36m-:--:--\u001b[0m\n"
      ]
     },
     "metadata": {},
     "output_type": "display_data"
    },
    {
     "data": {
      "text/html": [
       "<pre style=\"white-space:pre;overflow-x:auto;line-height:normal;font-family:Menlo,'DejaVu Sans Mono',consolas,'Courier New',monospace\"></pre>\n"
      ],
      "text/plain": []
     },
     "metadata": {},
     "output_type": "display_data"
    },
    {
     "data": {
      "text/html": [
       "<pre style=\"white-space:pre;overflow-x:auto;line-height:normal;font-family:Menlo,'DejaVu Sans Mono',consolas,'Courier New',monospace\">\n",
       "</pre>\n"
      ],
      "text/plain": [
       "\n"
      ]
     },
     "metadata": {},
     "output_type": "display_data"
    }
   ],
   "source": [
    "simulation.run(0.01)"
   ]
  },
  {
   "cell_type": "code",
   "execution_count": 15,
   "id": "bde54939-0704-4f20-9911-bf2f12194550",
   "metadata": {},
   "outputs": [
    {
     "data": {
      "text/plain": [
       "[<matplotlib.lines.Line2D at 0x2019dffbb50>]"
      ]
     },
     "execution_count": 15,
     "metadata": {},
     "output_type": "execute_result"
    },
    {
     "data": {
      "image/png": "[encoded data removed]",
      "text/plain": [
       "<Figure size 432x288 with 1 Axes>"
      ]
     },
     "metadata": {
      "needs_background": "light"
     },
     "output_type": "display_data"
    }
   ],
   "source": [
    "plt.plot(*simulation.get_time_current_array())"
   ]
  },
  {
   "cell_type": "code",
   "execution_count": 16,
   "id": "fd72ebef-e0c4-43d2-bbb7-5c2fe4d1cee9",
   "metadata": {},
   "outputs": [],
   "source": [
    "r = np.random.rand(n_x, n_y) * max_distance"
   ]
  },
  {
   "cell_type": "code",
   "execution_count": 17,
   "id": "3a53564b-1ded-4113-94b1-7f00019e2d42",
   "metadata": {},
   "outputs": [
    {
     "data": {
      "text/plain": [
       "0.24835557087939478"
      ]
     },
     "execution_count": 17,
     "metadata": {},
     "output_type": "execute_result"
    }
   ],
   "source": [
    "r.mean()"
   ]
  },
  {
   "cell_type": "code",
   "execution_count": null,
   "id": "a52d86e0-908f-4310-b161-8e4076563550",
   "metadata": {},
   "outputs": [],
   "source": []
  }
 ],
 "metadata": {
  "kernelspec": {
   "display_name": "Python 3 (ipykernel)",
   "language": "python",
   "name": "python3"
  },
  "language_info": {
   "codemirror_mode": {
    "name": "ipython",
    "version": 3
   },
   "file_extension": ".py",
   "mimetype": "text/x-python",
   "name": "python",
   "nbconvert_exporter": "python",
   "pygments_lexer": "ipython3",
   "version": "3.9.7"
  }
 },
 "nbformat": 4,
 "nbformat_minor": 5
}
